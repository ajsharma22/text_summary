{
 "cells": [
  {
   "cell_type": "code",
   "execution_count": 4,
   "metadata": {},
   "outputs": [],
   "source": [
    "import numpy as np\n",
    "import pandas as pd\n",
    "import re"
   ]
  },
  {
   "cell_type": "code",
   "execution_count": 5,
   "metadata": {},
   "outputs": [],
   "source": [
    "# !pip install spacy\n",
    "\n",
    "import spacy\n",
    "from spacy.lang.en.stop_words import STOP_WORDS\n",
    "\n",
    "stopwords=list(STOP_WORDS)\n",
    "from string import punctuation\n",
    "# !python -m spacy download en_core_web_sm"
   ]
  },
  {
   "cell_type": "code",
   "execution_count": 6,
   "metadata": {},
   "outputs": [],
   "source": [
    "nlp_spacy = spacy.load('en_core_web_sm')"
   ]
  },
  {
   "cell_type": "code",
   "execution_count": null,
   "metadata": {},
   "outputs": [],
   "source": [
    "pip install nltk"
   ]
  },
  {
   "cell_type": "code",
   "execution_count": 7,
   "metadata": {},
   "outputs": [],
   "source": [
    "import nltk"
   ]
  },
  {
   "cell_type": "code",
   "execution_count": 3,
   "metadata": {},
   "outputs": [
    {
     "name": "stderr",
     "output_type": "stream",
     "text": [
      "[nltk_data] Error loading punkt: <urlopen error [WinError 10060] A\n",
      "[nltk_data]     connection attempt failed because the connected party\n",
      "[nltk_data]     did not properly respond after a period of time, or\n",
      "[nltk_data]     established connection failed because connected host\n",
      "[nltk_data]     has failed to respond>\n"
     ]
    },
    {
     "data": {
      "text/plain": [
       "False"
      ]
     },
     "execution_count": 3,
     "metadata": {},
     "output_type": "execute_result"
    }
   ],
   "source": [
    "nltk.download('punkt')"
   ]
  },
  {
   "cell_type": "code",
   "execution_count": 53,
   "metadata": {},
   "outputs": [],
   "source": [
    "class text_summary:\n",
    "    def __init__(self, model='nltk'):\n",
    "        self.model = model\n",
    "#         from string import punctuation\n",
    "#         if self.model =='nltk':\n",
    "#             import nltk\n",
    "#             nltk.download('punkt')\n",
    "#         elif self.model =='spacy':\n",
    "#             import spacy\n",
    "#             from spacy.lang.en.stop_words import STOP_WORDS\n",
    "#             stopwords=list(STOP_WORDS)\n",
    "#             nlp_spacy = spacy.load('en_core_web_sm')\n",
    "#         else:\n",
    "#             pass\n",
    "\n",
    "    \n",
    "    def clean_words(self, text, remove_stop_words = False):\n",
    "        \"\"\"it removes the punctuation and numbers from the text, optional: stop words\"\"\"\n",
    "        if remove_stop_words:\n",
    "            text = text.split()\n",
    "#             print(text)\n",
    "            text = \" \".join([x for x in text if x not in stopwords])\n",
    "        text  = \"\".join([char for char in text if char not in punctuation])\n",
    "        text = re.sub('[0-9]+', '', text)   \n",
    "        text = text.lower().replace('\\n', ' ')\n",
    "        text = re.sub(\"\\s+\", \" \", text)\n",
    "#         print(text)\n",
    "        return text\n",
    "    \n",
    "    def clean_data_text(self, df):\n",
    "        self.data = df\n",
    "    # also included removing stop words part but not in this case later we will check\n",
    "        self.data['tokenized_sents'] = self.data['tokenized_sents'].apply(self.clean_words)\n",
    "    \n",
    "        return self.data\n",
    "    \n",
    "\n",
    "    def create_sent(self, df):\n",
    "\n",
    "    #     self.data['sentences_list'] = self.data['article_text'].apply(nltk.sent_tokenize)\n",
    "        self.data = df\n",
    "        if self.model =='spacy':\n",
    "            self.data['nlp_docs'] = self.data['article_text'].apply(nlp_spacy)\n",
    "            # iterating over all the every doc to get the sentecnces\n",
    "            self.data['sentence_list'] = ''\n",
    "            for i in range(self.data.shape[0]):\n",
    "                sentence=  [str(sent) for sent in self.data['nlp_docs'][i].sents]\n",
    "                self.data.at[self.data.index[i],'sentence_list'] = sentence\n",
    "\n",
    "        elif self.model == 'nltk':\n",
    "            self.data['sentence_list'] = self.data['article_text'].apply(nltk.sent_tokenize)\n",
    "        else:\n",
    "            pass\n",
    "\n",
    "        self.data['tokenized_sents'] = self.data['article_text'].astype(str)\n",
    "        self.data = self.clean_data_text(self.data) # cleaning the article\n",
    "        self.data['tokenized_sents_copy'] = self.data['tokenized_sents'] #creating copy of sentence without changes\n",
    "        return self.data\n",
    "    \n",
    "    def create_words_frequency_dictionary(self, df):\n",
    "        self.data = df\n",
    "        from collections import Counter\n",
    "        self.data['frequency'] = self.data['tokenized_sents_copy'].str.split(' ').apply(Counter)\n",
    "        return self.data\n",
    "    \n",
    "    def get_maximum_frequency(self, freq_dic):\n",
    "        return max(freq_dic.values())\n",
    "    \n",
    "    def create_word_weighted_freq(self, row_dictionary):\n",
    "        max_weight = self.get_maximum_frequency(row_dictionary)\n",
    "        for key, val in row_dictionary.items():\n",
    "            row_dictionary[key] = val/max_weight\n",
    "        return row_dictionary\n",
    "    \n",
    "#     return max key value pair\n",
    "#     this is not needed but still created it for future use\n",
    "    def get_max_key_value(self, freq_dic):\n",
    "        max_key_value_dic = {}\n",
    "        k = max(freq_dic, key = freq_dic.get)\n",
    "        max_key_value_dic[k] = freq_dic[k]\n",
    "        return max_key_value_dic\n",
    "    \n",
    "#     test_function\n",
    "    def insert_max_word_key_value(self, df):\n",
    "        self.data = df\n",
    "        self.data['max'] = self.data['frequency'].apply(self.get_max_key_value)\n",
    "        return self.data\n",
    "    \n",
    "    def calculate_sentence_score(self, sentence_list, \n",
    "                             word_weight_dictionary,\n",
    "                            decided_len=30):\n",
    "        \"\"\"This function calculate the sentence score of a sentence by \n",
    "        summing up the weighted score of the words. \"\"\"\n",
    "        sentence_score = {}\n",
    "    #     print('step 1')\n",
    "        for sent in sentence_list:\n",
    "    #         print(f'sent: {sent}')\n",
    "            if len(sent.split(' ')) < decided_len:\n",
    "                for word in sent.lower():\n",
    "    #                 print(f'{word}')\n",
    "                    if sent not in sentence_score.keys():\n",
    "\n",
    "                        sentence_score[sent] = word_weight_dictionary[word]\n",
    "    #                     print(f'{sentence_score[sent]}')\n",
    "    #                     print(f'word searched {word}')\n",
    "    #                     print(f'word_weight_dictionary value First time:{sent} and value\\n {word_weight_dictionary[word]}')\n",
    "                    else:\n",
    "    #                     print('why this is not printing')\n",
    "                        sentence_score[sent] += word_weight_dictionary[word]\n",
    "    #                     print(f'word {word_weight_dictionary[word]} {sentence_score[word]}')\n",
    "    #                     print(f'word_weight_dictionary value other time time: {sent} and value\\n {word_weight_dictionary[word]}')\n",
    "\n",
    "    #     sentence_score = sorted(sentence_score, key = sentence_score.get, reverse=True)\n",
    "        return [sentence_score]\n",
    "    \n",
    "    def create_summary(self, data, keywords = [], summary_sent_len =7):\n",
    "        \"\"\"It calculates the summary on the basis of the highest sentence score.\n",
    "        It also has a optional keywords parameter which can be used to pass a list \n",
    "        of words, if present in any sentence then it will be part of the summary, no matter\n",
    "        what is the sentence summary.\"\"\"\n",
    "        self.df = data\n",
    "        self.df['sentences_scores_dict'] = 0\n",
    "        self.df['summary'] = ''\n",
    "        \n",
    "        self.df['summary'] = self.df['summary'].astype('O')\n",
    "        for i in range(self.df.shape[0]):\n",
    "            dictionary_of_sent_scores = self.calculate_sentence_score(self.df['sentence_list'][i],\n",
    "                                                                 word_weight_dictionary=self.df['weighted_freq'][i]) \n",
    "\n",
    "            \n",
    "#             self.df.loc[i, 'sentences_scores_dict'] = dictionary_of_sent_scores\n",
    "            dictionary_of_sent_scores = dictionary_of_sent_scores[0]\n",
    "            sorted_dict = sorted(dictionary_of_sent_scores,\n",
    "                                         key = dictionary_of_sent_scores.get,\n",
    "                                reverse=True)\n",
    "            \n",
    "#             if keywords are passed then adding them by increasing the score\n",
    "#             of those sentences which contains these keywords and also increasing\n",
    "#             the variable length so that it doesn't skip important sentences\n",
    "#             on the basis of weights.\n",
    "#             self.df.at[self.df.index[i], 'summary'] = sorted_dict\n",
    "#             max_weight = dictionary_of_sent_scores[sorted_dict[0]]\n",
    "            keywords_sentences_list = [] \n",
    "            if len(keywords) > 0:\n",
    "                \n",
    "                for k in dictionary_of_sent_scores.keys(): \n",
    "                    if any(word in k for word in keywords):\n",
    "                        keywords_sentences_list.append(k)\n",
    "    \n",
    "            \n",
    "            keywords_sentences_list = keywords_sentences_list + sorted_dict\n",
    "        \n",
    "            self.df.loc[i, 'summary'] = \" \".join(keywords_sentences_list[:summary_sent_len])\n",
    "\n",
    "        return self.df\n",
    "    "
   ]
  },
  {
   "cell_type": "code",
   "execution_count": 29,
   "metadata": {},
   "outputs": [],
   "source": [
    "df =   df_spacy.copy()"
   ]
  },
  {
   "cell_type": "code",
   "execution_count": 30,
   "metadata": {
    "collapsed": true
   },
   "outputs": [
    {
     "name": "stdout",
     "output_type": "stream",
     "text": [
      "[{'TCS a Leader in System Integrator Capabilities on Microsoft Azure:': 3.0, 'Everest Group\\nTata Consultancy Services Leverages its Edge to Cloud Technology Expertise on Azure, Deep Contextual and Domain Knowledge, and Comprehensive Portfolio of Industry Solutions to Drive Market Success\\n': 5.0, '\\n': 0, 'The report highlights TCS\\x92 industry-focused next-generation solutions on Azure, spanning edge, Internet of Things, blockchain, and AI-/ ML-based solutions, as key strengths.': 4.0, 'Also highlighted as strengths are the company\\x92s vast library of assets, blueprints, and accelerators to help automate different stages of the cloud journey on Azure.': 7.0, 'According to the report, clients have appreciated TCS\\x92 partnership with Microsoft, competencies on Azure platforms, and end-to-end capabilities entailing consulting, design/ build, modernization, and operate services.': 7.0, '\\x93We believe that enterprises will harness the native capabilities of the cloud to embrace innovative business models and participate in larger ecosystems to more holistically meet end-consumer purposes.': 6.0, 'Our best-in-class and future-ready edge to cloud business solutions on Azure help our customers accelerate their multi-horizon cloud adoption journeys,\\x94 said Siva Ganesan, Global Head, Microsoft Business Unit, TCS.': 6.5, '\"This leadership positioning is a recognition of our vision, strategy, capabilities and the resultant market impact.\\x94\\n': 4.5, 'TCS provides end-to-end application modernization and migration services on Azure, using a customer-centric, productized approach that accelerates the transformation journey.': 7.0, 'It has invested in building a rich portfolio of intellectual property that enhances speed-to-market and delivers superior business outcomes.': 3.5, 'Key components include Cloud Mason, Cloud Counsel, the Intelligent Cloud Migration Continuum (iCMC\\x99), Cloud Migration Factory, Cloud Exponence\\x99 and the Azure Optimal Adoption Framework.\\n': 4.5, 'Several of TCS\\x92 proprietary products and platforms are available on Azure, including the TCS Industrial Power Plant (IP2\\x99) Solution that leverages the Azure Digital TWIN and': 8.0, 'Azure IoT Platform to optimize the performance of power plants, TCS OptumeraTM, a Digital Merchandizing Solution and QuartzTM, TCS\\x92 blockchain product.': 5.5, 'These solutions help global enterprises enhance customer engagement, accelerate the launch of newer products and services, and build competitive differentiation.': 4.5, '\"Cloud hyperscalers have become a key lever for enterprise digital transformation, with Microsoft Azure aggressively capturing market share in the public cloud space.': 6.0, 'Its clients value its partnership with Microsoft, competencies on the Azure platform, and end-to-end capabilities including consulting, design/build, and modernization services.': 4.5, 'As a result, TCS has been positioned as a Leader on Everest Group\\x92s 2021 System Integrator Capabilities on Microsoft Azure PEAK Matrix® Assessment.\"': 6.5, 'To date, it has successfully completed over 950 Azure engagements.': 2.0, 'TCS is a Microsoft Gold Competency Partner, the highest-level in the Microsoft Partner Network community and has best-in-class capabilities to deploy Microsoft business solutions.': 4.0, 'Additionally, it is a designated Microsoft Azure Expert Managed Service Partner, recognizing TCS\\x92 proven expertise in delivering the highest quality of service on Azure.': 5.0}]\n"
     ]
    }
   ],
   "source": [
    "dictionary_of_sent_scores = spacy_nlp_model.calculate_sentence_score(df['sentence_list'][0],\n",
    "                                                     word_weight_dictionary=df['weighted_freq'][0]) \n",
    "print(dictionary_of_sent_scores)"
   ]
  },
  {
   "cell_type": "code",
   "execution_count": 31,
   "metadata": {
    "collapsed": true
   },
   "outputs": [
    {
     "data": {
      "text/plain": [
       "{'TCS a Leader in System Integrator Capabilities on Microsoft Azure:': 3.0,\n",
       " 'Everest Group\\nTata Consultancy Services Leverages its Edge to Cloud Technology Expertise on Azure, Deep Contextual and Domain Knowledge, and Comprehensive Portfolio of Industry Solutions to Drive Market Success\\n': 5.0,\n",
       " '\\n': 0,\n",
       " 'The report highlights TCS\\x92 industry-focused next-generation solutions on Azure, spanning edge, Internet of Things, blockchain, and AI-/ ML-based solutions, as key strengths.': 4.0,\n",
       " 'Also highlighted as strengths are the company\\x92s vast library of assets, blueprints, and accelerators to help automate different stages of the cloud journey on Azure.': 7.0,\n",
       " 'According to the report, clients have appreciated TCS\\x92 partnership with Microsoft, competencies on Azure platforms, and end-to-end capabilities entailing consulting, design/ build, modernization, and operate services.': 7.0,\n",
       " '\\x93We believe that enterprises will harness the native capabilities of the cloud to embrace innovative business models and participate in larger ecosystems to more holistically meet end-consumer purposes.': 6.0,\n",
       " 'Our best-in-class and future-ready edge to cloud business solutions on Azure help our customers accelerate their multi-horizon cloud adoption journeys,\\x94 said Siva Ganesan, Global Head, Microsoft Business Unit, TCS.': 6.5,\n",
       " '\"This leadership positioning is a recognition of our vision, strategy, capabilities and the resultant market impact.\\x94\\n': 4.5,\n",
       " 'TCS provides end-to-end application modernization and migration services on Azure, using a customer-centric, productized approach that accelerates the transformation journey.': 7.0,\n",
       " 'It has invested in building a rich portfolio of intellectual property that enhances speed-to-market and delivers superior business outcomes.': 3.5,\n",
       " 'Key components include Cloud Mason, Cloud Counsel, the Intelligent Cloud Migration Continuum (iCMC\\x99), Cloud Migration Factory, Cloud Exponence\\x99 and the Azure Optimal Adoption Framework.\\n': 4.5,\n",
       " 'Several of TCS\\x92 proprietary products and platforms are available on Azure, including the TCS Industrial Power Plant (IP2\\x99) Solution that leverages the Azure Digital TWIN and': 8.0,\n",
       " 'Azure IoT Platform to optimize the performance of power plants, TCS OptumeraTM, a Digital Merchandizing Solution and QuartzTM, TCS\\x92 blockchain product.': 5.5,\n",
       " 'These solutions help global enterprises enhance customer engagement, accelerate the launch of newer products and services, and build competitive differentiation.': 4.5,\n",
       " '\"Cloud hyperscalers have become a key lever for enterprise digital transformation, with Microsoft Azure aggressively capturing market share in the public cloud space.': 6.0,\n",
       " 'Its clients value its partnership with Microsoft, competencies on the Azure platform, and end-to-end capabilities including consulting, design/build, and modernization services.': 4.5,\n",
       " 'As a result, TCS has been positioned as a Leader on Everest Group\\x92s 2021 System Integrator Capabilities on Microsoft Azure PEAK Matrix® Assessment.\"': 6.5,\n",
       " 'To date, it has successfully completed over 950 Azure engagements.': 2.0,\n",
       " 'TCS is a Microsoft Gold Competency Partner, the highest-level in the Microsoft Partner Network community and has best-in-class capabilities to deploy Microsoft business solutions.': 4.0,\n",
       " 'Additionally, it is a designated Microsoft Azure Expert Managed Service Partner, recognizing TCS\\x92 proven expertise in delivering the highest quality of service on Azure.': 5.0}"
      ]
     },
     "execution_count": 31,
     "metadata": {},
     "output_type": "execute_result"
    }
   ],
   "source": [
    "dictionary_of_sent_scores[0]"
   ]
  },
  {
   "cell_type": "code",
   "execution_count": 32,
   "metadata": {},
   "outputs": [],
   "source": [
    "#             df.loc[i, 'sentences_scores_dict'] = dictionary_of_sent_scores\n",
    "dictionary_of_sent_scores =dictionary_of_sent_scores[0]"
   ]
  },
  {
   "cell_type": "code",
   "execution_count": 33,
   "metadata": {},
   "outputs": [
    {
     "name": "stdout",
     "output_type": "stream",
     "text": [
      "['Several of TCS\\x92 proprietary products and platforms are available on Azure, including the TCS Industrial Power Plant (IP2\\x99) Solution that leverages the Azure Digital TWIN and', 'Also highlighted as strengths are the company\\x92s vast library of assets, blueprints, and accelerators to help automate different stages of the cloud journey on Azure.', 'According to the report, clients have appreciated TCS\\x92 partnership with Microsoft, competencies on Azure platforms, and end-to-end capabilities entailing consulting, design/ build, modernization, and operate services.', 'TCS provides end-to-end application modernization and migration services on Azure, using a customer-centric, productized approach that accelerates the transformation journey.', 'Our best-in-class and future-ready edge to cloud business solutions on Azure help our customers accelerate their multi-horizon cloud adoption journeys,\\x94 said Siva Ganesan, Global Head, Microsoft Business Unit, TCS.', 'As a result, TCS has been positioned as a Leader on Everest Group\\x92s 2021 System Integrator Capabilities on Microsoft Azure PEAK Matrix® Assessment.\"', '\\x93We believe that enterprises will harness the native capabilities of the cloud to embrace innovative business models and participate in larger ecosystems to more holistically meet end-consumer purposes.', '\"Cloud hyperscalers have become a key lever for enterprise digital transformation, with Microsoft Azure aggressively capturing market share in the public cloud space.', 'Azure IoT Platform to optimize the performance of power plants, TCS OptumeraTM, a Digital Merchandizing Solution and QuartzTM, TCS\\x92 blockchain product.', 'Everest Group\\nTata Consultancy Services Leverages its Edge to Cloud Technology Expertise on Azure, Deep Contextual and Domain Knowledge, and Comprehensive Portfolio of Industry Solutions to Drive Market Success\\n', 'Additionally, it is a designated Microsoft Azure Expert Managed Service Partner, recognizing TCS\\x92 proven expertise in delivering the highest quality of service on Azure.', '\"This leadership positioning is a recognition of our vision, strategy, capabilities and the resultant market impact.\\x94\\n', 'Key components include Cloud Mason, Cloud Counsel, the Intelligent Cloud Migration Continuum (iCMC\\x99), Cloud Migration Factory, Cloud Exponence\\x99 and the Azure Optimal Adoption Framework.\\n', 'These solutions help global enterprises enhance customer engagement, accelerate the launch of newer products and services, and build competitive differentiation.', 'Its clients value its partnership with Microsoft, competencies on the Azure platform, and end-to-end capabilities including consulting, design/build, and modernization services.', 'The report highlights TCS\\x92 industry-focused next-generation solutions on Azure, spanning edge, Internet of Things, blockchain, and AI-/ ML-based solutions, as key strengths.', 'TCS is a Microsoft Gold Competency Partner, the highest-level in the Microsoft Partner Network community and has best-in-class capabilities to deploy Microsoft business solutions.', 'It has invested in building a rich portfolio of intellectual property that enhances speed-to-market and delivers superior business outcomes.', 'TCS a Leader in System Integrator Capabilities on Microsoft Azure:', 'To date, it has successfully completed over 950 Azure engagements.', '\\n']\n"
     ]
    }
   ],
   "source": [
    "sorted_dict = sorted(dictionary_of_sent_scores,\n",
    "                             key = dictionary_of_sent_scores.get,\n",
    "                    reverse=True)\n",
    "print(sorted_dict)"
   ]
  },
  {
   "cell_type": "code",
   "execution_count": 35,
   "metadata": {},
   "outputs": [],
   "source": [
    "#             if keywords are passed then adding them by increasing the score\n",
    "#             of those sentences which contains these keywords and also increasing\n",
    "#             the variable length so that it doesn't skip important sentences\n",
    "#             on the basis of weights.\n",
    "#             df.at[df.index[0], 'summary'] = sorted_dict\n",
    "#             max_weight = dictionary_of_sent_scores[sorted_dict[0]]\n",
    "keywords_sentences_list = [] \n",
    "keywords = ['Market']\n",
    "summary_sent_len = 7"
   ]
  },
  {
   "cell_type": "code",
   "execution_count": 36,
   "metadata": {},
   "outputs": [],
   "source": [
    "if len(keywords) > 0:\n",
    "\n",
    "    for k in dictionary_of_sent_scores.keys(): \n",
    "        if any(word in k for word in keywords):\n",
    "            keywords_sentences_list.append(k)"
   ]
  },
  {
   "cell_type": "code",
   "execution_count": 39,
   "metadata": {},
   "outputs": [
    {
     "data": {
      "text/plain": [
       "['Everest Group\\nTata Consultancy Services Leverages its Edge to Cloud Technology Expertise on Azure, Deep Contextual and Domain Knowledge, and Comprehensive Portfolio of Industry Solutions to Drive Market Success\\n',\n",
       " 'Several of TCS\\x92 proprietary products and platforms are available on Azure, including the TCS Industrial Power Plant (IP2\\x99) Solution that leverages the Azure Digital TWIN and',\n",
       " 'Also highlighted as strengths are the company\\x92s vast library of assets, blueprints, and accelerators to help automate different stages of the cloud journey on Azure.',\n",
       " 'According to the report, clients have appreciated TCS\\x92 partnership with Microsoft, competencies on Azure platforms, and end-to-end capabilities entailing consulting, design/ build, modernization, and operate services.',\n",
       " 'TCS provides end-to-end application modernization and migration services on Azure, using a customer-centric, productized approach that accelerates the transformation journey.',\n",
       " 'Our best-in-class and future-ready edge to cloud business solutions on Azure help our customers accelerate their multi-horizon cloud adoption journeys,\\x94 said Siva Ganesan, Global Head, Microsoft Business Unit, TCS.',\n",
       " 'As a result, TCS has been positioned as a Leader on Everest Group\\x92s 2021 System Integrator Capabilities on Microsoft Azure PEAK Matrix® Assessment.\"',\n",
       " '\\x93We believe that enterprises will harness the native capabilities of the cloud to embrace innovative business models and participate in larger ecosystems to more holistically meet end-consumer purposes.',\n",
       " '\"Cloud hyperscalers have become a key lever for enterprise digital transformation, with Microsoft Azure aggressively capturing market share in the public cloud space.',\n",
       " 'Azure IoT Platform to optimize the performance of power plants, TCS OptumeraTM, a Digital Merchandizing Solution and QuartzTM, TCS\\x92 blockchain product.',\n",
       " 'Everest Group\\nTata Consultancy Services Leverages its Edge to Cloud Technology Expertise on Azure, Deep Contextual and Domain Knowledge, and Comprehensive Portfolio of Industry Solutions to Drive Market Success\\n',\n",
       " 'Additionally, it is a designated Microsoft Azure Expert Managed Service Partner, recognizing TCS\\x92 proven expertise in delivering the highest quality of service on Azure.',\n",
       " '\"This leadership positioning is a recognition of our vision, strategy, capabilities and the resultant market impact.\\x94\\n',\n",
       " 'Key components include Cloud Mason, Cloud Counsel, the Intelligent Cloud Migration Continuum (iCMC\\x99), Cloud Migration Factory, Cloud Exponence\\x99 and the Azure Optimal Adoption Framework.\\n',\n",
       " 'These solutions help global enterprises enhance customer engagement, accelerate the launch of newer products and services, and build competitive differentiation.',\n",
       " 'Its clients value its partnership with Microsoft, competencies on the Azure platform, and end-to-end capabilities including consulting, design/build, and modernization services.',\n",
       " 'The report highlights TCS\\x92 industry-focused next-generation solutions on Azure, spanning edge, Internet of Things, blockchain, and AI-/ ML-based solutions, as key strengths.',\n",
       " 'TCS is a Microsoft Gold Competency Partner, the highest-level in the Microsoft Partner Network community and has best-in-class capabilities to deploy Microsoft business solutions.',\n",
       " 'It has invested in building a rich portfolio of intellectual property that enhances speed-to-market and delivers superior business outcomes.',\n",
       " 'TCS a Leader in System Integrator Capabilities on Microsoft Azure:',\n",
       " 'To date, it has successfully completed over 950 Azure engagements.',\n",
       " '\\n']"
      ]
     },
     "execution_count": 39,
     "metadata": {},
     "output_type": "execute_result"
    }
   ],
   "source": [
    "keywords_sentences_list"
   ]
  },
  {
   "cell_type": "code",
   "execution_count": 38,
   "metadata": {},
   "outputs": [],
   "source": [
    "keywords_sentences_list = keywords_sentences_list + sorted_dict"
   ]
  },
  {
   "cell_type": "code",
   "execution_count": 51,
   "metadata": {},
   "outputs": [],
   "source": [
    "df.loc[i, 'summary'] = \" \".join(list(keywords_sentences_list)[:7])"
   ]
  },
  {
   "cell_type": "code",
   "execution_count": 52,
   "metadata": {},
   "outputs": [
    {
     "data": {
      "text/plain": [
       "'Everest Group\\nTata Consultancy Services Leverages its Edge to Cloud Technology Expertise on Azure, Deep Contextual and Domain Knowledge, and Comprehensive Portfolio of Industry Solutions to Drive Market Success\\n Several of TCS\\x92 proprietary products and platforms are available on Azure, including the TCS Industrial Power Plant (IP2\\x99) Solution that leverages the Azure Digital TWIN and Also highlighted as strengths are the company\\x92s vast library of assets, blueprints, and accelerators to help automate different stages of the cloud journey on Azure. According to the report, clients have appreciated TCS\\x92 partnership with Microsoft, competencies on Azure platforms, and end-to-end capabilities entailing consulting, design/ build, modernization, and operate services. TCS provides end-to-end application modernization and migration services on Azure, using a customer-centric, productized approach that accelerates the transformation journey. Our best-in-class and future-ready edge to cloud business solutions on Azure help our customers accelerate their multi-horizon cloud adoption journeys,\\x94 said Siva Ganesan, Global Head, Microsoft Business Unit, TCS. As a result, TCS has been positioned as a Leader on Everest Group\\x92s 2021 System Integrator Capabilities on Microsoft Azure PEAK Matrix® Assessment.\"'"
      ]
     },
     "execution_count": 52,
     "metadata": {},
     "output_type": "execute_result"
    }
   ],
   "source": [
    "df.loc[i, 'summary']"
   ]
  },
  {
   "cell_type": "code",
   "execution_count": 5,
   "metadata": {},
   "outputs": [],
   "source": [
    "t = text_summary(model='nltk')"
   ]
  },
  {
   "cell_type": "code",
   "execution_count": 8,
   "metadata": {},
   "outputs": [
    {
     "data": {
      "text/plain": [
       "'anuj good boy'"
      ]
     },
     "execution_count": 8,
     "metadata": {},
     "output_type": "execute_result"
    }
   ],
   "source": [
    "t.clean_words(text='anuj               not a is   88979good    *&BOY', remove_stop_words=True)"
   ]
  },
  {
   "cell_type": "code",
   "execution_count": 54,
   "metadata": {},
   "outputs": [],
   "source": [
    "import pandas as pd\n",
    "if __name__ == \"__main__\":\n",
    "#     loading data\n",
    "    df = pd.read_csv('tennis_articles.csv',encoding = 'unicode_escape')\n",
    "#     creating copy of data\n",
    "    df_nltk = df.copy()\n",
    "    df_spacy = df.copy()\n",
    "#     creating instances of class\n",
    "    spacy_nlp_model = text_summary(model='spacy')\n",
    "    nltk_nlp_model = text_summary(model='nltk')\n",
    "#     creating sentences\n",
    "    df_spacy = spacy_nlp_model.create_sent(df_spacy)\n",
    "    df_nltk = nltk_nlp_model.create_sent(df_nltk)\n",
    "#     creating word dictionaries\n",
    "    df_spacy = spacy_nlp_model.create_words_frequency_dictionary(df_spacy)\n",
    "    df_nltk = nltk_nlp_model.create_words_frequency_dictionary(df_nltk)\n",
    "#     It is a test function\n",
    "    df_spacy = spacy_nlp_model.insert_max_word_key_value(df_spacy)\n",
    "    df_nltk = nltk_nlp_model.insert_max_word_key_value(df_nltk)\n",
    "\n",
    "    \n",
    "# this function has one bug, it is changing the main column of frequency also.\n",
    "    df_spacy['weighted_freq'] = df_spacy['frequency'].apply(spacy_nlp_model.create_word_weighted_freq)\n",
    "    df_nltk['weighted_freq'] = df_nltk['frequency'].apply(nltk_nlp_model.create_word_weighted_freq)\n",
    "    \n",
    "    \n",
    "#     for spacy first  \n",
    "    df_spacy = spacy_nlp_model.create_summary(df_spacy)\n",
    "#     for nltk \n",
    "    df_nltk = nltk_nlp_model.create_summary(df_nltk)\n",
    "#     saving the ouput in csv file\n",
    "    df_spacy.to_csv('spacy_summary.csv')\n",
    "    df_nltk.to_csv('nltk_summary.csv')"
   ]
  },
  {
   "cell_type": "code",
   "execution_count": 23,
   "metadata": {},
   "outputs": [],
   "source": [
    "    \n",
    "    df_spacy = spacy_nlp_model.create_summary(df_spacy)\n",
    "#     for nltk \n",
    "    df_nltk = nltk_nlp_model.create_summary(df_nltk)\n",
    "    \n",
    "    \n",
    "\n",
    "    \n",
    "    "
   ]
  },
  {
   "cell_type": "code",
   "execution_count": 55,
   "metadata": {},
   "outputs": [
    {
     "data": {
      "text/html": [
       "<div>\n",
       "<style scoped>\n",
       "    .dataframe tbody tr th:only-of-type {\n",
       "        vertical-align: middle;\n",
       "    }\n",
       "\n",
       "    .dataframe tbody tr th {\n",
       "        vertical-align: top;\n",
       "    }\n",
       "\n",
       "    .dataframe thead th {\n",
       "        text-align: right;\n",
       "    }\n",
       "</style>\n",
       "<table border=\"1\" class=\"dataframe\">\n",
       "  <thead>\n",
       "    <tr style=\"text-align: right;\">\n",
       "      <th></th>\n",
       "      <th>article_id</th>\n",
       "      <th>article_title</th>\n",
       "      <th>article_text</th>\n",
       "      <th>source</th>\n",
       "      <th>nlp_docs</th>\n",
       "      <th>sentence_list</th>\n",
       "      <th>tokenized_sents</th>\n",
       "      <th>tokenized_sents_copy</th>\n",
       "      <th>frequency</th>\n",
       "      <th>max</th>\n",
       "      <th>weighted_freq</th>\n",
       "      <th>sentences_scores_dict</th>\n",
       "      <th>summary</th>\n",
       "    </tr>\n",
       "  </thead>\n",
       "  <tbody>\n",
       "    <tr>\n",
       "      <th>0</th>\n",
       "      <td>1</td>\n",
       "      <td>TCS a Leader in System Integrator Capabilities...</td>\n",
       "      <td>TCS a Leader in System Integrator Capabilities...</td>\n",
       "      <td>https://www.tcs.com/leader-system-integrator-c...</td>\n",
       "      <td>(TCS, a, Leader, in, System, Integrator, Capab...</td>\n",
       "      <td>[TCS a Leader in System Integrator Capabilitie...</td>\n",
       "      <td>tcs a leader in system integrator capabilities...</td>\n",
       "      <td>tcs a leader in system integrator capabilities...</td>\n",
       "      <td>{'tcs': 0.36666666666666664, 'a': 0.5, 'leader...</td>\n",
       "      <td>{'and': 30}</td>\n",
       "      <td>{'tcs': 0.36666666666666664, 'a': 0.5, 'leader...</td>\n",
       "      <td>0</td>\n",
       "      <td>Several of TCS proprietary products and platf...</td>\n",
       "    </tr>\n",
       "    <tr>\n",
       "      <th>1</th>\n",
       "      <td>2</td>\n",
       "      <td>OptumInsight and Change Healthcare Combine to ...</td>\n",
       "      <td>Optum, a diversified health services company a...</td>\n",
       "      <td>https://www.optum.com/about-us/news/optuminsig...</td>\n",
       "      <td>(Optum, ,, a, diversified, health, services, c...</td>\n",
       "      <td>[Optum, a diversified health services company ...</td>\n",
       "      <td>optum a diversified health services company an...</td>\n",
       "      <td>optum a diversified health services company an...</td>\n",
       "      <td>{'optum': 0.10204081632653061, 'a': 0.22448979...</td>\n",
       "      <td>{'and': 49}</td>\n",
       "      <td>{'optum': 0.10204081632653061, 'a': 0.22448979...</td>\n",
       "      <td>0</td>\n",
       "      <td>Change Healthcare brings key technologies, con...</td>\n",
       "    </tr>\n",
       "  </tbody>\n",
       "</table>\n",
       "</div>"
      ],
      "text/plain": [
       "   article_id                                      article_title  \\\n",
       "0           1  TCS a Leader in System Integrator Capabilities...   \n",
       "1           2  OptumInsight and Change Healthcare Combine to ...   \n",
       "\n",
       "                                        article_text  \\\n",
       "0  TCS a Leader in System Integrator Capabilities...   \n",
       "1  Optum, a diversified health services company a...   \n",
       "\n",
       "                                              source  \\\n",
       "0  https://www.tcs.com/leader-system-integrator-c...   \n",
       "1  https://www.optum.com/about-us/news/optuminsig...   \n",
       "\n",
       "                                            nlp_docs  \\\n",
       "0  (TCS, a, Leader, in, System, Integrator, Capab...   \n",
       "1  (Optum, ,, a, diversified, health, services, c...   \n",
       "\n",
       "                                       sentence_list  \\\n",
       "0  [TCS a Leader in System Integrator Capabilitie...   \n",
       "1  [Optum, a diversified health services company ...   \n",
       "\n",
       "                                     tokenized_sents  \\\n",
       "0  tcs a leader in system integrator capabilities...   \n",
       "1  optum a diversified health services company an...   \n",
       "\n",
       "                                tokenized_sents_copy  \\\n",
       "0  tcs a leader in system integrator capabilities...   \n",
       "1  optum a diversified health services company an...   \n",
       "\n",
       "                                           frequency          max  \\\n",
       "0  {'tcs': 0.36666666666666664, 'a': 0.5, 'leader...  {'and': 30}   \n",
       "1  {'optum': 0.10204081632653061, 'a': 0.22448979...  {'and': 49}   \n",
       "\n",
       "                                       weighted_freq  sentences_scores_dict  \\\n",
       "0  {'tcs': 0.36666666666666664, 'a': 0.5, 'leader...                      0   \n",
       "1  {'optum': 0.10204081632653061, 'a': 0.22448979...                      0   \n",
       "\n",
       "                                             summary  \n",
       "0  Several of TCS proprietary products and platf...  \n",
       "1  Change Healthcare brings key technologies, con...  "
      ]
     },
     "execution_count": 55,
     "metadata": {},
     "output_type": "execute_result"
    }
   ],
   "source": [
    "df_spacy"
   ]
  },
  {
   "cell_type": "code",
   "execution_count": 56,
   "metadata": {},
   "outputs": [
    {
     "data": {
      "text/html": [
       "<div>\n",
       "<style scoped>\n",
       "    .dataframe tbody tr th:only-of-type {\n",
       "        vertical-align: middle;\n",
       "    }\n",
       "\n",
       "    .dataframe tbody tr th {\n",
       "        vertical-align: top;\n",
       "    }\n",
       "\n",
       "    .dataframe thead th {\n",
       "        text-align: right;\n",
       "    }\n",
       "</style>\n",
       "<table border=\"1\" class=\"dataframe\">\n",
       "  <thead>\n",
       "    <tr style=\"text-align: right;\">\n",
       "      <th></th>\n",
       "      <th>article_id</th>\n",
       "      <th>article_title</th>\n",
       "      <th>article_text</th>\n",
       "      <th>source</th>\n",
       "      <th>sentence_list</th>\n",
       "      <th>tokenized_sents</th>\n",
       "      <th>tokenized_sents_copy</th>\n",
       "      <th>frequency</th>\n",
       "      <th>max</th>\n",
       "      <th>weighted_freq</th>\n",
       "      <th>sentences_scores_dict</th>\n",
       "      <th>summary</th>\n",
       "    </tr>\n",
       "  </thead>\n",
       "  <tbody>\n",
       "    <tr>\n",
       "      <th>0</th>\n",
       "      <td>1</td>\n",
       "      <td>TCS a Leader in System Integrator Capabilities...</td>\n",
       "      <td>TCS a Leader in System Integrator Capabilities...</td>\n",
       "      <td>https://www.tcs.com/leader-system-integrator-c...</td>\n",
       "      <td>[TCS a Leader in System Integrator Capabilitie...</td>\n",
       "      <td>tcs a leader in system integrator capabilities...</td>\n",
       "      <td>tcs a leader in system integrator capabilities...</td>\n",
       "      <td>{'tcs': 0.36666666666666664, 'a': 0.5, 'leader...</td>\n",
       "      <td>{'and': 30}</td>\n",
       "      <td>{'tcs': 0.36666666666666664, 'a': 0.5, 'leader...</td>\n",
       "      <td>0</td>\n",
       "      <td>Also highlighted as strengths are the company...</td>\n",
       "    </tr>\n",
       "    <tr>\n",
       "      <th>1</th>\n",
       "      <td>2</td>\n",
       "      <td>OptumInsight and Change Healthcare Combine to ...</td>\n",
       "      <td>Optum, a diversified health services company a...</td>\n",
       "      <td>https://www.optum.com/about-us/news/optuminsig...</td>\n",
       "      <td>[Optum, a diversified health services company ...</td>\n",
       "      <td>optum a diversified health services company an...</td>\n",
       "      <td>optum a diversified health services company an...</td>\n",
       "      <td>{'optum': 0.10204081632653061, 'a': 0.22448979...</td>\n",
       "      <td>{'and': 49}</td>\n",
       "      <td>{'optum': 0.10204081632653061, 'a': 0.22448979...</td>\n",
       "      <td>0</td>\n",
       "      <td>Change Healthcare brings key technologies, con...</td>\n",
       "    </tr>\n",
       "  </tbody>\n",
       "</table>\n",
       "</div>"
      ],
      "text/plain": [
       "   article_id                                      article_title  \\\n",
       "0           1  TCS a Leader in System Integrator Capabilities...   \n",
       "1           2  OptumInsight and Change Healthcare Combine to ...   \n",
       "\n",
       "                                        article_text  \\\n",
       "0  TCS a Leader in System Integrator Capabilities...   \n",
       "1  Optum, a diversified health services company a...   \n",
       "\n",
       "                                              source  \\\n",
       "0  https://www.tcs.com/leader-system-integrator-c...   \n",
       "1  https://www.optum.com/about-us/news/optuminsig...   \n",
       "\n",
       "                                       sentence_list  \\\n",
       "0  [TCS a Leader in System Integrator Capabilitie...   \n",
       "1  [Optum, a diversified health services company ...   \n",
       "\n",
       "                                     tokenized_sents  \\\n",
       "0  tcs a leader in system integrator capabilities...   \n",
       "1  optum a diversified health services company an...   \n",
       "\n",
       "                                tokenized_sents_copy  \\\n",
       "0  tcs a leader in system integrator capabilities...   \n",
       "1  optum a diversified health services company an...   \n",
       "\n",
       "                                           frequency          max  \\\n",
       "0  {'tcs': 0.36666666666666664, 'a': 0.5, 'leader...  {'and': 30}   \n",
       "1  {'optum': 0.10204081632653061, 'a': 0.22448979...  {'and': 49}   \n",
       "\n",
       "                                       weighted_freq  sentences_scores_dict  \\\n",
       "0  {'tcs': 0.36666666666666664, 'a': 0.5, 'leader...                      0   \n",
       "1  {'optum': 0.10204081632653061, 'a': 0.22448979...                      0   \n",
       "\n",
       "                                             summary  \n",
       "0  Also highlighted as strengths are the company...  \n",
       "1  Change Healthcare brings key technologies, con...  "
      ]
     },
     "execution_count": 56,
     "metadata": {},
     "output_type": "execute_result"
    }
   ],
   "source": [
    "df_nltk.head()"
   ]
  },
  {
   "cell_type": "code",
   "execution_count": 59,
   "metadata": {},
   "outputs": [],
   "source": [
    "df_spacy.to_csv('spacy_summary.csv')"
   ]
  }
 ],
 "metadata": {
  "kernelspec": {
   "display_name": "Python 3",
   "language": "python",
   "name": "python3"
  },
  "language_info": {
   "codemirror_mode": {
    "name": "ipython",
    "version": 3
   },
   "file_extension": ".py",
   "mimetype": "text/x-python",
   "name": "python",
   "nbconvert_exporter": "python",
   "pygments_lexer": "ipython3",
   "version": "3.8.5"
  }
 },
 "nbformat": 4,
 "nbformat_minor": 4
}
